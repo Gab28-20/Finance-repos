{
 "cells": [
  {
   "cell_type": "markdown",
   "id": "5acf0109",
   "metadata": {},
   "source": [
    "## 0.0 Imports"
   ]
  },
  {
   "cell_type": "markdown",
   "id": "0fd9baf3",
   "metadata": {},
   "source": [
    "### 0.1 Install"
   ]
  },
  {
   "cell_type": "code",
   "execution_count": 1,
   "id": "e3abe34e",
   "metadata": {
    "ExecuteTime": {
     "end_time": "2022-04-23T14:44:19.864698Z",
     "start_time": "2022-04-23T14:44:03.647373Z"
    }
   },
   "outputs": [
    {
     "name": "stdout",
     "output_type": "stream",
     "text": [
      "Requirement already satisfied: yfinance in c:\\users\\gabri\\anaconda3\\envs\\finance\\lib\\site-packages (0.1.70)\n",
      "Requirement already satisfied: pandas>=0.24.0 in c:\\users\\gabri\\anaconda3\\envs\\finance\\lib\\site-packages (from yfinance) (1.4.2)\n",
      "Requirement already satisfied: multitasking>=0.0.7 in c:\\users\\gabri\\anaconda3\\envs\\finance\\lib\\site-packages (from yfinance) (0.0.10)\n",
      "Requirement already satisfied: requests>=2.26 in c:\\users\\gabri\\anaconda3\\envs\\finance\\lib\\site-packages (from yfinance) (2.27.1)\n",
      "Requirement already satisfied: numpy>=1.15 in c:\\users\\gabri\\anaconda3\\envs\\finance\\lib\\site-packages (from yfinance) (1.22.3)\n",
      "Requirement already satisfied: lxml>=4.5.1 in c:\\users\\gabri\\anaconda3\\envs\\finance\\lib\\site-packages (from yfinance) (4.8.0)\n",
      "Requirement already satisfied: python-dateutil>=2.8.1 in c:\\users\\gabri\\anaconda3\\envs\\finance\\lib\\site-packages (from pandas>=0.24.0->yfinance) (2.8.2)\n",
      "Requirement already satisfied: pytz>=2020.1 in c:\\users\\gabri\\anaconda3\\envs\\finance\\lib\\site-packages (from pandas>=0.24.0->yfinance) (2022.1)\n",
      "Requirement already satisfied: six>=1.5 in c:\\users\\gabri\\anaconda3\\envs\\finance\\lib\\site-packages (from python-dateutil>=2.8.1->pandas>=0.24.0->yfinance) (1.16.0)\n",
      "Requirement already satisfied: urllib3<1.27,>=1.21.1 in c:\\users\\gabri\\anaconda3\\envs\\finance\\lib\\site-packages (from requests>=2.26->yfinance) (1.26.9)\n",
      "Requirement already satisfied: charset-normalizer~=2.0.0 in c:\\users\\gabri\\anaconda3\\envs\\finance\\lib\\site-packages (from requests>=2.26->yfinance) (2.0.12)\n",
      "Requirement already satisfied: certifi>=2017.4.17 in c:\\users\\gabri\\anaconda3\\envs\\finance\\lib\\site-packages (from requests>=2.26->yfinance) (2021.10.8)\n",
      "Requirement already satisfied: idna<4,>=2.5 in c:\\users\\gabri\\anaconda3\\envs\\finance\\lib\\site-packages (from requests>=2.26->yfinance) (3.3)\n"
     ]
    }
   ],
   "source": [
    "!pip install yfinance"
   ]
  },
  {
   "cell_type": "markdown",
   "id": "f1d40721",
   "metadata": {},
   "source": [
    "### 0.2 Imports packs"
   ]
  },
  {
   "cell_type": "code",
   "execution_count": 2,
   "id": "774a179e",
   "metadata": {
    "ExecuteTime": {
     "end_time": "2022-04-23T14:45:07.846459Z",
     "start_time": "2022-04-23T14:44:19.868689Z"
    }
   },
   "outputs": [],
   "source": [
    "import pandas            as pd\n",
    "import yfinance          as yf\n",
    "import matplotlib.pyplot as plt\n",
    "import seaborn           as sns\n",
    "import datetime          as dt\n",
    "import numpy             as np"
   ]
  },
  {
   "cell_type": "markdown",
   "id": "12064d11",
   "metadata": {},
   "source": [
    "### 0.3 Loading data"
   ]
  },
  {
   "cell_type": "code",
   "execution_count": 3,
   "id": "bf620224",
   "metadata": {
    "ExecuteTime": {
     "end_time": "2022-04-23T14:45:07.862421Z",
     "start_time": "2022-04-23T14:45:07.850450Z"
    }
   },
   "outputs": [],
   "source": [
    "bancos = ['BAZA3.SA',\n",
    "          'BNBR3.SA',\n",
    "          'ABCB4.SA',\n",
    "          'BBAS3.SA',\n",
    "          'BBDC3.SA',\n",
    "          'BIDI3.SA',\n",
    "          'BMEB3.SA',\n",
    "          'BPAC3.SA',\n",
    "          'BRSR3.SA',\n",
    "          'ITUB3.SA',\n",
    "          'MODL3.SA',\n",
    "          'SANB3.SA',\n",
    "          'RPAD3.SA']"
   ]
  },
  {
   "cell_type": "code",
   "execution_count": 4,
   "id": "98f29181",
   "metadata": {
    "ExecuteTime": {
     "end_time": "2022-04-23T14:45:08.130474Z",
     "start_time": "2022-04-23T14:45:07.870395Z"
    }
   },
   "outputs": [],
   "source": [
    "today = dt.date.today()\n",
    "today\n",
    "\n",
    "start = '2022-01-01'\n",
    "end = today"
   ]
  },
  {
   "cell_type": "code",
   "execution_count": 5,
   "id": "bee928fa",
   "metadata": {
    "ExecuteTime": {
     "end_time": "2022-04-23T14:45:15.518838Z",
     "start_time": "2022-04-23T14:45:08.137465Z"
    }
   },
   "outputs": [
    {
     "name": "stdout",
     "output_type": "stream",
     "text": [
      "[*********************100%***********************]  1 of 1 completed\n",
      "[*********************100%***********************]  1 of 1 completed\n",
      "[*********************100%***********************]  1 of 1 completed\n",
      "[*********************100%***********************]  1 of 1 completed\n",
      "[*********************100%***********************]  1 of 1 completed\n",
      "[*********************100%***********************]  1 of 1 completed\n",
      "[*********************100%***********************]  1 of 1 completed\n",
      "[*********************100%***********************]  1 of 1 completed\n",
      "[*********************100%***********************]  1 of 1 completed\n",
      "[*********************100%***********************]  1 of 1 completed\n",
      "[*********************100%***********************]  1 of 1 completed\n",
      "[*********************100%***********************]  1 of 1 completed\n",
      "[*********************100%***********************]  1 of 1 completed\n"
     ]
    },
    {
     "data": {
      "text/html": [
       "<div>\n",
       "<style scoped>\n",
       "    .dataframe tbody tr th:only-of-type {\n",
       "        vertical-align: middle;\n",
       "    }\n",
       "\n",
       "    .dataframe tbody tr th {\n",
       "        vertical-align: top;\n",
       "    }\n",
       "\n",
       "    .dataframe thead th {\n",
       "        text-align: right;\n",
       "    }\n",
       "</style>\n",
       "<table border=\"1\" class=\"dataframe\">\n",
       "  <thead>\n",
       "    <tr style=\"text-align: right;\">\n",
       "      <th></th>\n",
       "      <th>BAZA3.SA</th>\n",
       "      <th>BNBR3.SA</th>\n",
       "      <th>ABCB4.SA</th>\n",
       "      <th>BBAS3.SA</th>\n",
       "      <th>BBDC3.SA</th>\n",
       "      <th>BIDI3.SA</th>\n",
       "      <th>BMEB3.SA</th>\n",
       "      <th>BPAC3.SA</th>\n",
       "      <th>BRSR3.SA</th>\n",
       "      <th>ITUB3.SA</th>\n",
       "      <th>MODL3.SA</th>\n",
       "      <th>SANB3.SA</th>\n",
       "      <th>RPAD3.SA</th>\n",
       "    </tr>\n",
       "    <tr>\n",
       "      <th>Date</th>\n",
       "      <th></th>\n",
       "      <th></th>\n",
       "      <th></th>\n",
       "      <th></th>\n",
       "      <th></th>\n",
       "      <th></th>\n",
       "      <th></th>\n",
       "      <th></th>\n",
       "      <th></th>\n",
       "      <th></th>\n",
       "      <th></th>\n",
       "      <th></th>\n",
       "      <th></th>\n",
       "    </tr>\n",
       "  </thead>\n",
       "  <tbody>\n",
       "    <tr>\n",
       "      <th>2022-01-03</th>\n",
       "      <td>41.29</td>\n",
       "      <td>69.94</td>\n",
       "      <td>15.27</td>\n",
       "      <td>27.97</td>\n",
       "      <td>14.97</td>\n",
       "      <td>NaN</td>\n",
       "      <td>11.76</td>\n",
       "      <td>12.35</td>\n",
       "      <td>11.57</td>\n",
       "      <td>19.31</td>\n",
       "      <td>4.47</td>\n",
       "      <td>14.02</td>\n",
       "      <td>6.19</td>\n",
       "    </tr>\n",
       "    <tr>\n",
       "      <th>2022-01-04</th>\n",
       "      <td>39.11</td>\n",
       "      <td>67.55</td>\n",
       "      <td>15.45</td>\n",
       "      <td>28.00</td>\n",
       "      <td>15.04</td>\n",
       "      <td>NaN</td>\n",
       "      <td>11.76</td>\n",
       "      <td>11.95</td>\n",
       "      <td>11.40</td>\n",
       "      <td>19.74</td>\n",
       "      <td>3.98</td>\n",
       "      <td>14.03</td>\n",
       "      <td>6.19</td>\n",
       "    </tr>\n",
       "    <tr>\n",
       "      <th>2022-01-05</th>\n",
       "      <td>40.30</td>\n",
       "      <td>67.55</td>\n",
       "      <td>14.75</td>\n",
       "      <td>27.53</td>\n",
       "      <td>14.94</td>\n",
       "      <td>NaN</td>\n",
       "      <td>11.76</td>\n",
       "      <td>11.15</td>\n",
       "      <td>11.30</td>\n",
       "      <td>19.34</td>\n",
       "      <td>3.50</td>\n",
       "      <td>14.05</td>\n",
       "      <td>6.19</td>\n",
       "    </tr>\n",
       "    <tr>\n",
       "      <th>2022-01-06</th>\n",
       "      <td>39.28</td>\n",
       "      <td>67.55</td>\n",
       "      <td>14.97</td>\n",
       "      <td>27.76</td>\n",
       "      <td>15.10</td>\n",
       "      <td>NaN</td>\n",
       "      <td>11.76</td>\n",
       "      <td>10.85</td>\n",
       "      <td>11.28</td>\n",
       "      <td>19.69</td>\n",
       "      <td>3.23</td>\n",
       "      <td>14.16</td>\n",
       "      <td>6.19</td>\n",
       "    </tr>\n",
       "    <tr>\n",
       "      <th>2022-01-07</th>\n",
       "      <td>39.03</td>\n",
       "      <td>67.55</td>\n",
       "      <td>15.08</td>\n",
       "      <td>27.78</td>\n",
       "      <td>15.17</td>\n",
       "      <td>NaN</td>\n",
       "      <td>11.76</td>\n",
       "      <td>10.30</td>\n",
       "      <td>11.17</td>\n",
       "      <td>19.99</td>\n",
       "      <td>4.48</td>\n",
       "      <td>14.19</td>\n",
       "      <td>6.19</td>\n",
       "    </tr>\n",
       "    <tr>\n",
       "      <th>...</th>\n",
       "      <td>...</td>\n",
       "      <td>...</td>\n",
       "      <td>...</td>\n",
       "      <td>...</td>\n",
       "      <td>...</td>\n",
       "      <td>...</td>\n",
       "      <td>...</td>\n",
       "      <td>...</td>\n",
       "      <td>...</td>\n",
       "      <td>...</td>\n",
       "      <td>...</td>\n",
       "      <td>...</td>\n",
       "      <td>...</td>\n",
       "    </tr>\n",
       "    <tr>\n",
       "      <th>2022-04-14</th>\n",
       "      <td>45.50</td>\n",
       "      <td>70.00</td>\n",
       "      <td>16.18</td>\n",
       "      <td>35.20</td>\n",
       "      <td>16.10</td>\n",
       "      <td>5.41</td>\n",
       "      <td>16.13</td>\n",
       "      <td>13.81</td>\n",
       "      <td>11.93</td>\n",
       "      <td>22.60</td>\n",
       "      <td>3.78</td>\n",
       "      <td>16.48</td>\n",
       "      <td>6.39</td>\n",
       "    </tr>\n",
       "    <tr>\n",
       "      <th>2022-04-18</th>\n",
       "      <td>45.07</td>\n",
       "      <td>70.00</td>\n",
       "      <td>16.92</td>\n",
       "      <td>36.50</td>\n",
       "      <td>16.41</td>\n",
       "      <td>5.63</td>\n",
       "      <td>16.13</td>\n",
       "      <td>13.81</td>\n",
       "      <td>11.96</td>\n",
       "      <td>22.67</td>\n",
       "      <td>3.68</td>\n",
       "      <td>16.59</td>\n",
       "      <td>6.20</td>\n",
       "    </tr>\n",
       "    <tr>\n",
       "      <th>2022-04-19</th>\n",
       "      <td>46.98</td>\n",
       "      <td>70.00</td>\n",
       "      <td>17.17</td>\n",
       "      <td>35.21</td>\n",
       "      <td>16.13</td>\n",
       "      <td>6.19</td>\n",
       "      <td>16.13</td>\n",
       "      <td>14.44</td>\n",
       "      <td>11.90</td>\n",
       "      <td>22.38</td>\n",
       "      <td>3.84</td>\n",
       "      <td>16.58</td>\n",
       "      <td>6.28</td>\n",
       "    </tr>\n",
       "    <tr>\n",
       "      <th>2022-04-20</th>\n",
       "      <td>45.31</td>\n",
       "      <td>70.00</td>\n",
       "      <td>17.28</td>\n",
       "      <td>35.16</td>\n",
       "      <td>16.08</td>\n",
       "      <td>5.77</td>\n",
       "      <td>16.13</td>\n",
       "      <td>14.56</td>\n",
       "      <td>12.05</td>\n",
       "      <td>22.40</td>\n",
       "      <td>3.86</td>\n",
       "      <td>16.59</td>\n",
       "      <td>6.28</td>\n",
       "    </tr>\n",
       "    <tr>\n",
       "      <th>2022-04-22</th>\n",
       "      <td>45.00</td>\n",
       "      <td>70.00</td>\n",
       "      <td>16.97</td>\n",
       "      <td>34.43</td>\n",
       "      <td>15.84</td>\n",
       "      <td>5.71</td>\n",
       "      <td>16.12</td>\n",
       "      <td>14.41</td>\n",
       "      <td>11.92</td>\n",
       "      <td>21.97</td>\n",
       "      <td>3.63</td>\n",
       "      <td>16.50</td>\n",
       "      <td>6.28</td>\n",
       "    </tr>\n",
       "  </tbody>\n",
       "</table>\n",
       "<p>76 rows × 13 columns</p>\n",
       "</div>"
      ],
      "text/plain": [
       "            BAZA3.SA  BNBR3.SA  ABCB4.SA  BBAS3.SA  BBDC3.SA  BIDI3.SA  \\\n",
       "Date                                                                     \n",
       "2022-01-03     41.29     69.94     15.27     27.97     14.97       NaN   \n",
       "2022-01-04     39.11     67.55     15.45     28.00     15.04       NaN   \n",
       "2022-01-05     40.30     67.55     14.75     27.53     14.94       NaN   \n",
       "2022-01-06     39.28     67.55     14.97     27.76     15.10       NaN   \n",
       "2022-01-07     39.03     67.55     15.08     27.78     15.17       NaN   \n",
       "...              ...       ...       ...       ...       ...       ...   \n",
       "2022-04-14     45.50     70.00     16.18     35.20     16.10      5.41   \n",
       "2022-04-18     45.07     70.00     16.92     36.50     16.41      5.63   \n",
       "2022-04-19     46.98     70.00     17.17     35.21     16.13      6.19   \n",
       "2022-04-20     45.31     70.00     17.28     35.16     16.08      5.77   \n",
       "2022-04-22     45.00     70.00     16.97     34.43     15.84      5.71   \n",
       "\n",
       "            BMEB3.SA  BPAC3.SA  BRSR3.SA  ITUB3.SA  MODL3.SA  SANB3.SA  \\\n",
       "Date                                                                     \n",
       "2022-01-03     11.76     12.35     11.57     19.31      4.47     14.02   \n",
       "2022-01-04     11.76     11.95     11.40     19.74      3.98     14.03   \n",
       "2022-01-05     11.76     11.15     11.30     19.34      3.50     14.05   \n",
       "2022-01-06     11.76     10.85     11.28     19.69      3.23     14.16   \n",
       "2022-01-07     11.76     10.30     11.17     19.99      4.48     14.19   \n",
       "...              ...       ...       ...       ...       ...       ...   \n",
       "2022-04-14     16.13     13.81     11.93     22.60      3.78     16.48   \n",
       "2022-04-18     16.13     13.81     11.96     22.67      3.68     16.59   \n",
       "2022-04-19     16.13     14.44     11.90     22.38      3.84     16.58   \n",
       "2022-04-20     16.13     14.56     12.05     22.40      3.86     16.59   \n",
       "2022-04-22     16.12     14.41     11.92     21.97      3.63     16.50   \n",
       "\n",
       "            RPAD3.SA  \n",
       "Date                  \n",
       "2022-01-03      6.19  \n",
       "2022-01-04      6.19  \n",
       "2022-01-05      6.19  \n",
       "2022-01-06      6.19  \n",
       "2022-01-07      6.19  \n",
       "...              ...  \n",
       "2022-04-14      6.39  \n",
       "2022-04-18      6.20  \n",
       "2022-04-19      6.28  \n",
       "2022-04-20      6.28  \n",
       "2022-04-22      6.28  \n",
       "\n",
       "[76 rows x 13 columns]"
      ]
     },
     "execution_count": 5,
     "metadata": {},
     "output_type": "execute_result"
    }
   ],
   "source": [
    "df = pd.DataFrame()\n",
    "\n",
    "for i in bancos:\n",
    "    df[i] = np.round( yf.download(i, start = start, end = end)['Adj Close'], 2 )\n",
    "\n",
    "df"
   ]
  },
  {
   "cell_type": "markdown",
   "id": "c0f420dc",
   "metadata": {},
   "source": [
    "## 1.0 Description Data"
   ]
  },
  {
   "cell_type": "code",
   "execution_count": 6,
   "id": "8487f73f",
   "metadata": {
    "ExecuteTime": {
     "end_time": "2022-04-23T14:45:15.533796Z",
     "start_time": "2022-04-23T14:45:15.523824Z"
    }
   },
   "outputs": [],
   "source": [
    "df1 = df.copy()"
   ]
  },
  {
   "cell_type": "markdown",
   "id": "7945f437",
   "metadata": {},
   "source": [
    "### 1.1 Data types"
   ]
  },
  {
   "cell_type": "code",
   "execution_count": 7,
   "id": "3bd95692",
   "metadata": {
    "ExecuteTime": {
     "end_time": "2022-04-23T14:45:15.627553Z",
     "start_time": "2022-04-23T14:45:15.539782Z"
    }
   },
   "outputs": [
    {
     "data": {
      "text/plain": [
       "BAZA3.SA    float64\n",
       "BNBR3.SA    float64\n",
       "ABCB4.SA    float64\n",
       "BBAS3.SA    float64\n",
       "BBDC3.SA    float64\n",
       "BIDI3.SA    float64\n",
       "BMEB3.SA    float64\n",
       "BPAC3.SA    float64\n",
       "BRSR3.SA    float64\n",
       "ITUB3.SA    float64\n",
       "MODL3.SA    float64\n",
       "SANB3.SA    float64\n",
       "RPAD3.SA    float64\n",
       "dtype: object"
      ]
     },
     "execution_count": 7,
     "metadata": {},
     "output_type": "execute_result"
    }
   ],
   "source": [
    "df1.dtypes"
   ]
  },
  {
   "cell_type": "markdown",
   "id": "22b847bb",
   "metadata": {},
   "source": [
    "### 1.2 Check Nan"
   ]
  },
  {
   "cell_type": "code",
   "execution_count": 8,
   "id": "0e33ec60",
   "metadata": {
    "ExecuteTime": {
     "end_time": "2022-04-23T14:45:15.721304Z",
     "start_time": "2022-04-23T14:45:15.631536Z"
    }
   },
   "outputs": [
    {
     "data": {
      "text/plain": [
       "BAZA3.SA     0\n",
       "BNBR3.SA     0\n",
       "ABCB4.SA     0\n",
       "BBAS3.SA     0\n",
       "BBDC3.SA     0\n",
       "BIDI3.SA    55\n",
       "BMEB3.SA     0\n",
       "BPAC3.SA     0\n",
       "BRSR3.SA     0\n",
       "ITUB3.SA     0\n",
       "MODL3.SA     0\n",
       "SANB3.SA     0\n",
       "RPAD3.SA     0\n",
       "dtype: int64"
      ]
     },
     "execution_count": 8,
     "metadata": {},
     "output_type": "execute_result"
    }
   ],
   "source": [
    "df1.isna().sum().T"
   ]
  },
  {
   "cell_type": "markdown",
   "id": "0b9e47bf",
   "metadata": {},
   "source": [
    "### 1.3 Fillout Nan"
   ]
  },
  {
   "cell_type": "code",
   "execution_count": 9,
   "id": "caf61707",
   "metadata": {
    "ExecuteTime": {
     "end_time": "2022-04-23T14:45:15.832419Z",
     "start_time": "2022-04-23T14:45:15.725293Z"
    }
   },
   "outputs": [],
   "source": [
    "df1 = df1.fillna(0)"
   ]
  },
  {
   "cell_type": "markdown",
   "id": "e7b1b129",
   "metadata": {
    "ExecuteTime": {
     "end_time": "2022-04-21T14:59:22.982327Z",
     "start_time": "2022-04-21T14:59:22.963374Z"
    }
   },
   "source": [
    "## 2.0 Risk Matrix"
   ]
  },
  {
   "cell_type": "code",
   "execution_count": 10,
   "id": "f7a782a7",
   "metadata": {
    "ExecuteTime": {
     "end_time": "2022-04-23T14:45:15.989226Z",
     "start_time": "2022-04-23T14:45:15.840508Z"
    }
   },
   "outputs": [],
   "source": [
    "df2 = df1.copy()"
   ]
  },
  {
   "cell_type": "markdown",
   "id": "31ce1c84",
   "metadata": {},
   "source": [
    "### 2.1 Returns"
   ]
  },
  {
   "cell_type": "code",
   "execution_count": 11,
   "id": "ba370b8b",
   "metadata": {
    "ExecuteTime": {
     "end_time": "2022-04-23T14:45:16.131606Z",
     "start_time": "2022-04-23T14:45:16.000196Z"
    }
   },
   "outputs": [],
   "source": [
    "returns = df2.pct_change()"
   ]
  },
  {
   "cell_type": "code",
   "execution_count": 12,
   "id": "a537b3d7",
   "metadata": {
    "ExecuteTime": {
     "end_time": "2022-04-23T14:45:16.241745Z",
     "start_time": "2022-04-23T14:45:16.134564Z"
    }
   },
   "outputs": [
    {
     "data": {
      "text/html": [
       "<div>\n",
       "<style scoped>\n",
       "    .dataframe tbody tr th:only-of-type {\n",
       "        vertical-align: middle;\n",
       "    }\n",
       "\n",
       "    .dataframe tbody tr th {\n",
       "        vertical-align: top;\n",
       "    }\n",
       "\n",
       "    .dataframe thead th {\n",
       "        text-align: right;\n",
       "    }\n",
       "</style>\n",
       "<table border=\"1\" class=\"dataframe\">\n",
       "  <thead>\n",
       "    <tr style=\"text-align: right;\">\n",
       "      <th></th>\n",
       "      <th>BAZA3.SA</th>\n",
       "      <th>BNBR3.SA</th>\n",
       "      <th>ABCB4.SA</th>\n",
       "      <th>BBAS3.SA</th>\n",
       "      <th>BBDC3.SA</th>\n",
       "      <th>BIDI3.SA</th>\n",
       "      <th>BMEB3.SA</th>\n",
       "      <th>BPAC3.SA</th>\n",
       "      <th>BRSR3.SA</th>\n",
       "      <th>ITUB3.SA</th>\n",
       "      <th>MODL3.SA</th>\n",
       "      <th>SANB3.SA</th>\n",
       "      <th>RPAD3.SA</th>\n",
       "    </tr>\n",
       "    <tr>\n",
       "      <th>Date</th>\n",
       "      <th></th>\n",
       "      <th></th>\n",
       "      <th></th>\n",
       "      <th></th>\n",
       "      <th></th>\n",
       "      <th></th>\n",
       "      <th></th>\n",
       "      <th></th>\n",
       "      <th></th>\n",
       "      <th></th>\n",
       "      <th></th>\n",
       "      <th></th>\n",
       "      <th></th>\n",
       "    </tr>\n",
       "  </thead>\n",
       "  <tbody>\n",
       "    <tr>\n",
       "      <th>2022-01-03</th>\n",
       "      <td>NaN</td>\n",
       "      <td>NaN</td>\n",
       "      <td>NaN</td>\n",
       "      <td>NaN</td>\n",
       "      <td>NaN</td>\n",
       "      <td>NaN</td>\n",
       "      <td>NaN</td>\n",
       "      <td>NaN</td>\n",
       "      <td>NaN</td>\n",
       "      <td>NaN</td>\n",
       "      <td>NaN</td>\n",
       "      <td>NaN</td>\n",
       "      <td>NaN</td>\n",
       "    </tr>\n",
       "    <tr>\n",
       "      <th>2022-01-04</th>\n",
       "      <td>-0.052797</td>\n",
       "      <td>-0.034172</td>\n",
       "      <td>0.011788</td>\n",
       "      <td>0.001073</td>\n",
       "      <td>0.004676</td>\n",
       "      <td>NaN</td>\n",
       "      <td>0.0</td>\n",
       "      <td>-0.032389</td>\n",
       "      <td>-0.014693</td>\n",
       "      <td>0.022268</td>\n",
       "      <td>-0.109620</td>\n",
       "      <td>0.000713</td>\n",
       "      <td>0.0</td>\n",
       "    </tr>\n",
       "    <tr>\n",
       "      <th>2022-01-05</th>\n",
       "      <td>0.030427</td>\n",
       "      <td>0.000000</td>\n",
       "      <td>-0.045307</td>\n",
       "      <td>-0.016786</td>\n",
       "      <td>-0.006649</td>\n",
       "      <td>NaN</td>\n",
       "      <td>0.0</td>\n",
       "      <td>-0.066946</td>\n",
       "      <td>-0.008772</td>\n",
       "      <td>-0.020263</td>\n",
       "      <td>-0.120603</td>\n",
       "      <td>0.001426</td>\n",
       "      <td>0.0</td>\n",
       "    </tr>\n",
       "    <tr>\n",
       "      <th>2022-01-06</th>\n",
       "      <td>-0.025310</td>\n",
       "      <td>0.000000</td>\n",
       "      <td>0.014915</td>\n",
       "      <td>0.008355</td>\n",
       "      <td>0.010710</td>\n",
       "      <td>NaN</td>\n",
       "      <td>0.0</td>\n",
       "      <td>-0.026906</td>\n",
       "      <td>-0.001770</td>\n",
       "      <td>0.018097</td>\n",
       "      <td>-0.077143</td>\n",
       "      <td>0.007829</td>\n",
       "      <td>0.0</td>\n",
       "    </tr>\n",
       "    <tr>\n",
       "      <th>2022-01-07</th>\n",
       "      <td>-0.006365</td>\n",
       "      <td>0.000000</td>\n",
       "      <td>0.007348</td>\n",
       "      <td>0.000720</td>\n",
       "      <td>0.004636</td>\n",
       "      <td>NaN</td>\n",
       "      <td>0.0</td>\n",
       "      <td>-0.050691</td>\n",
       "      <td>-0.009752</td>\n",
       "      <td>0.015236</td>\n",
       "      <td>0.386997</td>\n",
       "      <td>0.002119</td>\n",
       "      <td>0.0</td>\n",
       "    </tr>\n",
       "  </tbody>\n",
       "</table>\n",
       "</div>"
      ],
      "text/plain": [
       "            BAZA3.SA  BNBR3.SA  ABCB4.SA  BBAS3.SA  BBDC3.SA  BIDI3.SA  \\\n",
       "Date                                                                     \n",
       "2022-01-03       NaN       NaN       NaN       NaN       NaN       NaN   \n",
       "2022-01-04 -0.052797 -0.034172  0.011788  0.001073  0.004676       NaN   \n",
       "2022-01-05  0.030427  0.000000 -0.045307 -0.016786 -0.006649       NaN   \n",
       "2022-01-06 -0.025310  0.000000  0.014915  0.008355  0.010710       NaN   \n",
       "2022-01-07 -0.006365  0.000000  0.007348  0.000720  0.004636       NaN   \n",
       "\n",
       "            BMEB3.SA  BPAC3.SA  BRSR3.SA  ITUB3.SA  MODL3.SA  SANB3.SA  \\\n",
       "Date                                                                     \n",
       "2022-01-03       NaN       NaN       NaN       NaN       NaN       NaN   \n",
       "2022-01-04       0.0 -0.032389 -0.014693  0.022268 -0.109620  0.000713   \n",
       "2022-01-05       0.0 -0.066946 -0.008772 -0.020263 -0.120603  0.001426   \n",
       "2022-01-06       0.0 -0.026906 -0.001770  0.018097 -0.077143  0.007829   \n",
       "2022-01-07       0.0 -0.050691 -0.009752  0.015236  0.386997  0.002119   \n",
       "\n",
       "            RPAD3.SA  \n",
       "Date                  \n",
       "2022-01-03       NaN  \n",
       "2022-01-04       0.0  \n",
       "2022-01-05       0.0  \n",
       "2022-01-06       0.0  \n",
       "2022-01-07       0.0  "
      ]
     },
     "execution_count": 12,
     "metadata": {},
     "output_type": "execute_result"
    }
   ],
   "source": [
    "returns.head()"
   ]
  },
  {
   "cell_type": "code",
   "execution_count": 13,
   "id": "468bcde4",
   "metadata": {
    "ExecuteTime": {
     "end_time": "2022-04-23T14:45:16.320137Z",
     "start_time": "2022-04-23T14:45:16.245736Z"
    }
   },
   "outputs": [],
   "source": [
    "returns = returns.dropna()"
   ]
  },
  {
   "cell_type": "markdown",
   "id": "b05c0053",
   "metadata": {},
   "source": [
    "### 2.2 Volatility"
   ]
  },
  {
   "cell_type": "code",
   "execution_count": 14,
   "id": "eb875732",
   "metadata": {
    "ExecuteTime": {
     "end_time": "2022-04-23T14:45:16.415699Z",
     "start_time": "2022-04-23T14:45:16.325090Z"
    }
   },
   "outputs": [],
   "source": [
    "volatility = pd.DataFrame( returns.std(), columns = [ 'Vol' ] )"
   ]
  },
  {
   "cell_type": "markdown",
   "id": "badcaafa",
   "metadata": {},
   "source": [
    "### 2.3 Return mean"
   ]
  },
  {
   "cell_type": "code",
   "execution_count": 15,
   "id": "9bea01ed",
   "metadata": {
    "ExecuteTime": {
     "end_time": "2022-04-23T14:45:16.525496Z",
     "start_time": "2022-04-23T14:45:16.419690Z"
    }
   },
   "outputs": [],
   "source": [
    "returns_mean = pd.DataFrame( returns.mean(), columns = [ 'Returns' ] )"
   ]
  },
  {
   "cell_type": "markdown",
   "id": "82ae0bd4",
   "metadata": {},
   "source": [
    "### 2.4 Return risk"
   ]
  },
  {
   "cell_type": "code",
   "execution_count": 16,
   "id": "5fdc08fb",
   "metadata": {
    "ExecuteTime": {
     "end_time": "2022-04-23T14:45:16.651650Z",
     "start_time": "2022-04-23T14:45:16.528496Z"
    }
   },
   "outputs": [],
   "source": [
    "return_risk = pd.concat( [ returns_mean, volatility ], axis = 1 )"
   ]
  },
  {
   "cell_type": "markdown",
   "id": "205ad3c1",
   "metadata": {},
   "source": [
    "### 2.5 Matrix"
   ]
  },
  {
   "cell_type": "code",
   "execution_count": 17,
   "id": "c34c6e5a",
   "metadata": {
    "ExecuteTime": {
     "end_time": "2022-04-23T14:45:19.146278Z",
     "start_time": "2022-04-23T14:45:16.665557Z"
    }
   },
   "outputs": [
    {
     "name": "stderr",
     "output_type": "stream",
     "text": [
      "posx and posy should be finite values\n",
      "posx and posy should be finite values\n"
     ]
    },
    {
     "data": {
      "image/png": "[encoded data removed]",
      "text/plain": [
       "<Figure size 864x1080 with 1 Axes>"
      ]
     },
     "metadata": {
      "needs_background": "light"
     },
     "output_type": "display_data"
    }
   ],
   "source": [
    "plt.subplots( figsize = ( 12, 15 ) )\n",
    "\n",
    "sns.scatterplot( data = return_risk, x = 'Vol', y = 'Returns' )\n",
    "\n",
    "for i in range( return_risk.shape[0] ):\n",
    "    plt.text( x = return_risk.Vol[i], y = return_risk.Returns[i],\n",
    "              s = return_risk.index[i],\n",
    "            fontdict = dict( color = 'red', size = 15 ),\n",
    "            bbox = dict( facecolor = 'yellow' ) )"
   ]
  },
  {
   "cell_type": "code",
   "execution_count": null,
   "id": "0fa5014f",
   "metadata": {},
   "outputs": [],
   "source": []
  }
 ],
 "metadata": {
  "kernelspec": {
   "display_name": "Python 3 (ipykernel)",
   "language": "python",
   "name": "python3"
  },
  "language_info": {
   "codemirror_mode": {
    "name": "ipython",
    "version": 3
   },
   "file_extension": ".py",
   "mimetype": "text/x-python",
   "name": "python",
   "nbconvert_exporter": "python",
   "pygments_lexer": "ipython3",
   "version": "3.8.13"
  }
 },
 "nbformat": 4,
 "nbformat_minor": 5
}
